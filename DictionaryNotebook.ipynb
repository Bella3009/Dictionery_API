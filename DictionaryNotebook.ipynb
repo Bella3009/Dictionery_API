{
  "cells": [
    {
      "attachments": {},
      "cell_type": "markdown",
      "metadata": {},
      "source": [
        "Importing the data from the csv file"
      ]
    },
    {
      "cell_type": "code",
      "execution_count": 1,
      "metadata": {
        "trusted": true
      },
      "outputs": [],
      "source": [
        "import pandas as pd"
      ]
    },
    {
      "cell_type": "code",
      "execution_count": 2,
      "metadata": {
        "trusted": true
      },
      "outputs": [],
      "source": [
        "data = pd.read_csv(\"dictionary.csv\")"
      ]
    },
    {
      "cell_type": "code",
      "execution_count": 3,
      "metadata": {
        "trusted": true
      },
      "outputs": [
        {
          "data": {
            "text/html": [
              "<div>\n",
              "<style scoped>\n",
              "    .dataframe tbody tr th:only-of-type {\n",
              "        vertical-align: middle;\n",
              "    }\n",
              "\n",
              "    .dataframe tbody tr th {\n",
              "        vertical-align: top;\n",
              "    }\n",
              "\n",
              "    .dataframe thead th {\n",
              "        text-align: right;\n",
              "    }\n",
              "</style>\n",
              "<table border=\"1\" class=\"dataframe\">\n",
              "  <thead>\n",
              "    <tr style=\"text-align: right;\">\n",
              "      <th></th>\n",
              "      <th>word</th>\n",
              "      <th>definition</th>\n",
              "    </tr>\n",
              "  </thead>\n",
              "  <tbody>\n",
              "    <tr>\n",
              "      <th>0</th>\n",
              "      <td>abandoned industrial site</td>\n",
              "      <td>Site that cannot be used for any purpose, bein...</td>\n",
              "    </tr>\n",
              "    <tr>\n",
              "      <th>1</th>\n",
              "      <td>abandoned vehicle</td>\n",
              "      <td>A vehicle that has been discarded in the envir...</td>\n",
              "    </tr>\n",
              "    <tr>\n",
              "      <th>2</th>\n",
              "      <td>abiotic factor</td>\n",
              "      <td>Physical, chemical and other non-living enviro...</td>\n",
              "    </tr>\n",
              "    <tr>\n",
              "      <th>3</th>\n",
              "      <td>access road</td>\n",
              "      <td>Any street or narrow stretch of paved surface ...</td>\n",
              "    </tr>\n",
              "    <tr>\n",
              "      <th>4</th>\n",
              "      <td>access to the sea</td>\n",
              "      <td>The ability to bring goods to and from a port ...</td>\n",
              "    </tr>\n",
              "    <tr>\n",
              "      <th>...</th>\n",
              "      <td>...</td>\n",
              "      <td>...</td>\n",
              "    </tr>\n",
              "    <tr>\n",
              "      <th>49532</th>\n",
              "      <td>casing</td>\n",
              "      <td>Something put around something else, usually i...</td>\n",
              "    </tr>\n",
              "    <tr>\n",
              "      <th>49533</th>\n",
              "      <td>facing</td>\n",
              "      <td>Something put around something else, usually i...</td>\n",
              "    </tr>\n",
              "    <tr>\n",
              "      <th>49534</th>\n",
              "      <td>lining</td>\n",
              "      <td>Something put around something else, usually i...</td>\n",
              "    </tr>\n",
              "    <tr>\n",
              "      <th>49535</th>\n",
              "      <td>assumption of Mary</td>\n",
              "      <td>Catholic holiday on August 15, remembering the...</td>\n",
              "    </tr>\n",
              "    <tr>\n",
              "      <th>49536</th>\n",
              "      <td>auscultation</td>\n",
              "      <td>Listening to the heart and lungs using a steth...</td>\n",
              "    </tr>\n",
              "  </tbody>\n",
              "</table>\n",
              "<p>49537 rows × 2 columns</p>\n",
              "</div>"
            ],
            "text/plain": [
              "                            word  \\\n",
              "0      abandoned industrial site   \n",
              "1              abandoned vehicle   \n",
              "2                 abiotic factor   \n",
              "3                    access road   \n",
              "4              access to the sea   \n",
              "...                          ...   \n",
              "49532                     casing   \n",
              "49533                     facing   \n",
              "49534                     lining   \n",
              "49535         assumption of Mary   \n",
              "49536               auscultation   \n",
              "\n",
              "                                              definition  \n",
              "0      Site that cannot be used for any purpose, bein...  \n",
              "1      A vehicle that has been discarded in the envir...  \n",
              "2      Physical, chemical and other non-living enviro...  \n",
              "3      Any street or narrow stretch of paved surface ...  \n",
              "4      The ability to bring goods to and from a port ...  \n",
              "...                                                  ...  \n",
              "49532  Something put around something else, usually i...  \n",
              "49533  Something put around something else, usually i...  \n",
              "49534  Something put around something else, usually i...  \n",
              "49535  Catholic holiday on August 15, remembering the...  \n",
              "49536  Listening to the heart and lungs using a steth...  \n",
              "\n",
              "[49537 rows x 2 columns]"
            ]
          },
          "execution_count": 3,
          "metadata": {},
          "output_type": "execute_result"
        }
      ],
      "source": [
        "data"
      ]
    },
    {
      "cell_type": "code",
      "execution_count": 4,
      "metadata": {
        "trusted": true
      },
      "outputs": [],
      "source": [
        "wd = 'sun'"
      ]
    },
    {
      "attachments": {},
      "cell_type": "markdown",
      "metadata": {},
      "source": [
        "Retrieve the definition of a word for this example it was used the word sun"
      ]
    },
    {
      "cell_type": "code",
      "execution_count": 5,
      "metadata": {
        "trusted": true
      },
      "outputs": [
        {
          "data": {
            "text/plain": [
              "3449    1. Any star, especially when seen as the centr...\n",
              "Name: definition, dtype: object"
            ]
          },
          "execution_count": 5,
          "metadata": {},
          "output_type": "execute_result"
        }
      ],
      "source": [
        "data.loc[data[\"word\"] == wd][\"definition\"]"
      ]
    },
    {
      "cell_type": "code",
      "execution_count": null,
      "metadata": {},
      "outputs": [],
      "source": []
    }
  ],
  "metadata": {
    "kernelspec": {
      "display_name": "Python (Pyodide)",
      "language": "python",
      "name": "python"
    },
    "language_info": {
      "codemirror_mode": {
        "name": "python",
        "version": 3
      },
      "file_extension": ".py",
      "mimetype": "text/x-python",
      "name": "python",
      "nbconvert_exporter": "python",
      "pygments_lexer": "ipython3",
      "version": "3.8"
    }
  },
  "nbformat": 4,
  "nbformat_minor": 4
}
